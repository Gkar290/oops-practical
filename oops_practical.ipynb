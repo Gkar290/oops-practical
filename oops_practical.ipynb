{
  "nbformat": 4,
  "nbformat_minor": 0,
  "metadata": {
    "colab": {
      "provenance": []
    },
    "kernelspec": {
      "name": "python3",
      "display_name": "Python 3"
    },
    "language_info": {
      "name": "python"
    }
  },
  "cells": [
    {
      "cell_type": "code",
      "execution_count": null,
      "metadata": {
        "colab": {
          "base_uri": "https://localhost:8080/"
        },
        "id": "NxBYJ88Z5gof",
        "outputId": "edfe2745-0049-4d19-defd-46e0ba407d44"
      },
      "outputs": [
        {
          "output_type": "stream",
          "name": "stdout",
          "text": [
            "Bark!\n"
          ]
        }
      ],
      "source": [
        "#QSN-1-Create a parent class Animal with a method speak() that prints a generic message. Create a child class Dog that overrides the speak() method to print \"Bark!\".\n",
        "class par_animal:\n",
        "    def bark(self):\n",
        "        print(\"animal make a sounds.\")\n",
        "\n",
        "class Dog(par_animal):\n",
        "    def speak(self):\n",
        "        print(\"Bark!\")\n",
        "\n",
        "# Create an instance of the Dog class\n",
        "my_dog = Dog()\n",
        "\n",
        "# Call the speak() method\n",
        "my_dog.speak()\n"
      ]
    },
    {
      "cell_type": "code",
      "source": [
        "#QSN-2-Write a program to create an abstract class Shape with a method area(). Derive classes Circle and Rectangle from it and implement the area() method in both.\n",
        "from abc import ABC, abstractmethod\n",
        "import math\n",
        "\n",
        "class Shape(ABC):\n",
        "    @abstractmethod\n",
        "    def area(self):\n",
        "        pass\n",
        "\n",
        "# Derived class Circle\n",
        "class Circle(Shape):\n",
        "    def __init__(self, radius):\n",
        "        self.radius = radius\n",
        "\n",
        "    def area(self):\n",
        "        return math.pi * (self.radius ** 2)\n",
        "\n",
        "# Derived class Rectangle\n",
        "class Rectangle(Shape):\n",
        "    def __init__(self, width, height):\n",
        "        self.width = width\n",
        "        self.height = height\n",
        "\n",
        "    def area(self):\n",
        "        return self.width * self.height\n",
        "\n",
        "# Create instances of Circle and Rectangle\n",
        "circle = Circle(5)\n",
        "rectangle = Rectangle(4, 6)\n",
        "\n",
        "# Calculate and print areas\n",
        "print(f\"Circle area: {circle.area():.2f}\")\n",
        "print(f\"Rectangle area: {rectangle.area()}\")\n"
      ],
      "metadata": {
        "colab": {
          "base_uri": "https://localhost:8080/"
        },
        "id": "6MdhkH8W61nx",
        "outputId": "e81ed506-994d-496d-b7e3-3d5e6d9e5a71"
      },
      "execution_count": null,
      "outputs": [
        {
          "output_type": "stream",
          "name": "stdout",
          "text": [
            "Circle area: 78.54\n",
            "Rectangle area: 24\n"
          ]
        }
      ]
    },
    {
      "cell_type": "code",
      "source": [
        "#QSN-3-Implement a multi-level inheritance scenario where a class Vehicle has an attribute type. Derive a class Car and further derive a class ElectricCar that adds a battery attribute.\n",
        "# Base class\n",
        "class Vehicle:\n",
        "    def __init__(self, type):\n",
        "        self.type = type\n",
        "\n",
        "    def display_details(self):\n",
        "        print(f\"Vehicle type: {self.type}\")\n",
        "\n",
        "# Intermediate class\n",
        "class Car(Vehicle):\n",
        "    def __init__(self, type, brand, model):\n",
        "        super().__init__(type)\n",
        "        self.brand = brand\n",
        "        self.model = model\n",
        "\n",
        "    def display_details(self):\n",
        "        super().display_details()\n",
        "        print(f\"Brand: {self.brand}\")\n",
        "        print(f\"Model: {self.model}\")\n",
        "\n",
        "# Derived class\n",
        "class ElectricCar(Car):\n",
        "    def __init__(self, type, brand, model, battery_capacity):\n",
        "        super().__init__(type, brand, model)\n",
        "        self.battery_capacity = battery_capacity\n",
        "\n",
        "    def display_details(self):\n",
        "        super().display_details()\n",
        "        print(f\"Battery capacity: {self.battery_capacity} kWh\")\n",
        "\n",
        "# Create an instance of ElectricCar\n",
        "my_electric_car = ElectricCar(\"Car\", \"Tesla\", \"Model S\", 100)\n",
        "\n",
        "# Display details\n",
        "my_electric_car.display_details()"
      ],
      "metadata": {
        "colab": {
          "base_uri": "https://localhost:8080/"
        },
        "id": "OQc_F0_z_L89",
        "outputId": "ca508e86-1904-4e6e-8a7c-de5067e08d5f"
      },
      "execution_count": null,
      "outputs": [
        {
          "output_type": "stream",
          "name": "stdout",
          "text": [
            "Vehicle type: Car\n",
            "Brand: Tesla\n",
            "Model: Model S\n",
            "Battery capacity: 100 kWh\n"
          ]
        }
      ]
    },
    {
      "cell_type": "code",
      "source": [
        "#QSN-4-Implement a multi-level inheritance scenario where a class Vehicle has an attribute type. Derive a class Car and further derive a class ElectricCar that adds a battery attribute.\n",
        "#though question 4 and 3 are same to same ,rather copy paste ,i am making same scenario but using scooter instaed of car.\n",
        "# Base class\n",
        "class Vehicle:\n",
        "    def __init__(self, type):\n",
        "        self.type = type\n",
        "\n",
        "    def display_details(self):\n",
        "        print(f\"Vehicle type: {self.type}\")\n",
        "\n",
        "# Intermediate class\n",
        "class scooter(Vehicle):\n",
        "    def __init__(self, type, brand, model):\n",
        "        super().__init__(type)\n",
        "        self.brand = brand\n",
        "        self.model = model\n",
        "\n",
        "    def display_details(self):\n",
        "        super().display_details()\n",
        "        print(f\"Brand: {self.brand}\")\n",
        "        print(f\"Model: {self.model}\")\n",
        "\n",
        "# Derived class\n",
        "class ElectricScooter(scooter):\n",
        "    def __init__(self, type, brand, model, battery_capacity):\n",
        "        super().__init__(type, brand, model)\n",
        "        self.battery_capacity = battery_capacity\n",
        "\n",
        "    def display_details(self):\n",
        "        super().display_details()\n",
        "        print(f\"Battery capacity: {self.battery_capacity} kWh\")\n",
        "\n",
        "# Create an instance of ElectricCar\n",
        "electric_scooter = ElectricScooter(\"scooter\", \"OLA\", \"S1X\", 3)\n",
        "\n",
        "# Display details\n",
        "electric_scooter.display_details()\n"
      ],
      "metadata": {
        "colab": {
          "base_uri": "https://localhost:8080/"
        },
        "id": "EQSsb4dC7NfW",
        "outputId": "60aa2235-09f1-41b9-e5b0-6bbf0f73cea7"
      },
      "execution_count": null,
      "outputs": [
        {
          "output_type": "stream",
          "name": "stdout",
          "text": [
            "Vehicle type: scooter\n",
            "Brand: OLA\n",
            "Model: S1X\n",
            "Battery capacity: 3 kWh\n"
          ]
        }
      ]
    },
    {
      "cell_type": "code",
      "source": [
        "#QSN-5- Write a program to demonstrate encapsulation by creating a class BankAccount with private attributes balance and methods to deposit, withdraw, and check balance.\n",
        "class BankAccount:\n",
        "    def __init__(self, initial_balance=0):\n",
        "        self.__balance = initial_balance\n",
        "\n",
        "    def deposit(self, amount):\n",
        "        if amount > 0:\n",
        "            self.__balance += amount\n",
        "            print(f\"Deposited ₹{amount:.2f}. New balance: ₹{self.__balance:.2f}\")\n",
        "        else:\n",
        "            print(\"Invalid deposit amount.\")\n",
        "\n",
        "    def withdraw(self, amount):\n",
        "        if 0 < amount <= self.__balance:\n",
        "            self.__balance -= amount\n",
        "            print(f\"Withdrew ₹{amount:.2f}. New balance: ₹{self.__balance:.2f}\")\n",
        "        else:\n",
        "            print(\"Invalid withdrawal amount.\")\n",
        "\n",
        "    def check_balance(self):\n",
        "        print(f\"Current balance: ₹{self.__balance:.2f}\")\n",
        "\n",
        "# Create a BankAccount instance\n",
        "account = BankAccount(1000)\n",
        "account.check_balance()\n",
        "account.deposit(500)\n",
        "account.withdraw(200)\n",
        "account.check_balance()\n",
        "\n",
        "# Attempt to access private attribute directly\n",
        "try:\n",
        "    print(account.__balance)\n",
        "except AttributeError:\n",
        "    print(\"Error: Cannot access private attribute directly.\")"
      ],
      "metadata": {
        "colab": {
          "base_uri": "https://localhost:8080/"
        },
        "id": "Zfgyk1iZ_f7b",
        "outputId": "969cf2b8-07e0-4737-a7fa-0da1991ee1df"
      },
      "execution_count": null,
      "outputs": [
        {
          "output_type": "stream",
          "name": "stdout",
          "text": [
            "Current balance: ₹1000.00\n",
            "Deposited ₹500.00. New balance: ₹1500.00\n",
            "Withdrew ₹200.00. New balance: ₹1300.00\n",
            "Current balance: ₹1300.00\n",
            "Error: Cannot access private attribute directly.\n"
          ]
        }
      ]
    },
    {
      "cell_type": "code",
      "source": [
        "#QSN-6-Demonstrate runtime polymorphism using a method play() in a base class Instrument. Derive classes Guitar and Piano that implement their own version of play().\n",
        "class Instrument:\n",
        "    def play(self):\n",
        "        print(\"Playing a generic instrument.\")\n",
        "\n",
        "class Guitar(Instrument):\n",
        "    def play(self):\n",
        "        print(\"Strumming the guitar.\")\n",
        "\n",
        "class Piano(Instrument):\n",
        "    def play(self):\n",
        "        print(\"Pressing the piano keys.\")\n",
        "\n",
        "def play_instrument(instrument):\n",
        "    instrument.play()\n",
        "\n",
        "guitar = Guitar()\n",
        "piano = Piano()\n",
        "\n",
        "play_instrument(guitar)\n",
        "play_instrument(piano)\n",
        "\n",
        "instruments = [Guitar(), Piano(), Guitar(), Piano()]\n",
        "\n",
        "for instrument in instruments:\n",
        "    instrument.play()\n",
        "\n"
      ],
      "metadata": {
        "colab": {
          "base_uri": "https://localhost:8080/"
        },
        "id": "RN8Ek5zEA2YH",
        "outputId": "dd23f7fb-4a6f-42dc-bbe6-9d6acd4e1579"
      },
      "execution_count": null,
      "outputs": [
        {
          "output_type": "stream",
          "name": "stdout",
          "text": [
            "Strumming the guitar.\n",
            "Pressing the piano keys.\n",
            "Strumming the guitar.\n",
            "Pressing the piano keys.\n",
            "Strumming the guitar.\n",
            "Pressing the piano keys.\n"
          ]
        }
      ]
    },
    {
      "cell_type": "code",
      "source": [
        "#QSN-7-Create a class MathOperations with a class method add_numbers() to add two numbers and a static method subtract_numbers() to subtract two numbers.\n",
        "class MathOperations:\n",
        "    @classmethod\n",
        "    def add_numbers(cls, num1, num2):\n",
        "        return num1 + num2\n",
        "\n",
        "    @staticmethod\n",
        "    def subtract_numbers(num1, num2):\n",
        "        return num1 - num2\n",
        "\n",
        "result_add = MathOperations.add_numbers(10, 5)\n",
        "print(f\"Result of addition: {result_add}\")\n",
        "result_subtract = MathOperations.subtract_numbers(10, 5)\n",
        "print(f\"Result of subtraction: {result_subtract}\")\n"
      ],
      "metadata": {
        "colab": {
          "base_uri": "https://localhost:8080/"
        },
        "id": "kqDzvWeABhso",
        "outputId": "38548aec-075b-49db-bb50-cdfb055ac148"
      },
      "execution_count": null,
      "outputs": [
        {
          "output_type": "stream",
          "name": "stdout",
          "text": [
            "Result of addition: 15\n",
            "Result of subtraction: 5\n"
          ]
        }
      ]
    },
    {
      "cell_type": "code",
      "source": [
        "#QSN-8-Implement a class Person with a class method to count the total number of persons created\n",
        "\n",
        "class Person:\n",
        "    person_count = 0\n",
        "    @classmethod\n",
        "    def increment_person_count(cls):\n",
        "        cls.person_count += 1\n",
        "\n",
        "    def __init__(self, name, age):\n",
        "        self.name = name\n",
        "        self.age = age\n",
        "        Person.increment_person_count()\n",
        "\n",
        "    @classmethod\n",
        "    def get_person_count(cls):\n",
        "        return cls.person_count\n",
        "\n",
        "    def display_details(self):\n",
        "        print(f\"Name: {self.name}, Age: {self.age}\")\n",
        "\n",
        "person1 = Person(\"ajay\",31)\n",
        "person2 = Person(\"bijay\",32)\n",
        "person3 = Person(\"sanjay\",33)\n",
        "\n",
        "# Display person details\n",
        "person1.display_details()\n",
        "person2.display_details()\n",
        "person3.display_details()\n",
        "\n",
        "total_persons = Person.get_person_count()\n",
        "print(f\"Total persons created: {total_persons}\")\n"
      ],
      "metadata": {
        "colab": {
          "base_uri": "https://localhost:8080/"
        },
        "id": "eRz2EA_TCOhc",
        "outputId": "de7e64b7-8c6d-4f73-99dd-eb4e2ade835b"
      },
      "execution_count": null,
      "outputs": [
        {
          "output_type": "stream",
          "name": "stdout",
          "text": [
            "Name: ajay, Age: 31\n",
            "Name: bijay, Age: 32\n",
            "Name: sanjay, Age: 33\n",
            "Total persons created: 3\n"
          ]
        }
      ]
    },
    {
      "cell_type": "code",
      "source": [
        "#QSN-9-Write a class Fraction with attributes numerator and denominator. Override the str method to display the fraction as \"numerator/denominator\"\n",
        "\n",
        "class Fraction:\n",
        "    def __init__(self, numerator, denominator):\n",
        "        if denominator == 0:\n",
        "            raise ValueError(\"Denominator cannot be zero\")\n",
        "        self.numerator = numerator\n",
        "        self.denominator = denominator\n",
        "\n",
        "    def __str__(self):\n",
        "        return f\"{self.numerator}/{self.denominator}\"\n",
        "\n",
        "# Create a Fraction instance\n",
        "fraction = Fraction(3, 4)\n",
        "\n",
        "# Print the fraction\n",
        "print(fraction)"
      ],
      "metadata": {
        "colab": {
          "base_uri": "https://localhost:8080/"
        },
        "id": "eBOEwLaFCnBL",
        "outputId": "358353e6-e937-4a0b-c0db-b2f8f071b9e2"
      },
      "execution_count": null,
      "outputs": [
        {
          "output_type": "stream",
          "name": "stdout",
          "text": [
            "3/4\n"
          ]
        }
      ]
    },
    {
      "cell_type": "code",
      "source": [
        "#QSN-10-Demonstrate operator overloading by creating a class Vector and overriding the add method to add two vectors.\n",
        "class Vector:\n",
        "    def __init__(self, x, y):\n",
        "        self.x = x\n",
        "        self.y = y\n",
        "\n",
        "    # Override the __add__ method to add two vectors\n",
        "    def __add__(self, other):\n",
        "        return Vector(self.x + other.x, self.y + other.y)\n",
        "\n",
        "    # Override the __str__ method to provide a string representation of the vector\n",
        "    def __str__(self):\n",
        "        return f\"({self.x}, {self.y})\"\n",
        "\n",
        "# Create two Vector instances\n",
        "vector1 = Vector(1, 2)\n",
        "vector2 = Vector(3, 4)\n",
        "\n",
        "# Add the two vectors using the overloaded + operator\n",
        "result_vector = vector1 + vector2\n",
        "\n",
        "# Print the result vector\n",
        "print(\"Vector 1:\", vector1)\n",
        "print(\"Vector 2:\", vector2)\n",
        "print(\"Result Vector:\", result_vector)\n"
      ],
      "metadata": {
        "colab": {
          "base_uri": "https://localhost:8080/"
        },
        "id": "B5i-FbFeDkxh",
        "outputId": "dabb5220-b24c-40d6-f515-324f6ff178c9"
      },
      "execution_count": null,
      "outputs": [
        {
          "output_type": "stream",
          "name": "stdout",
          "text": [
            "Vector 1: (1, 2)\n",
            "Vector 2: (3, 4)\n",
            "Result Vector: (4, 6)\n"
          ]
        }
      ]
    },
    {
      "cell_type": "code",
      "source": [
        "#QSN-11-Create a class Person with attributes name and age. Add a method greet() that prints \"Hello, my name is {name} and I am {age} years old\n",
        "class Person:\n",
        "    def __init__(self, name, age):\n",
        "        self.name = name\n",
        "        self.age = age\n",
        "\n",
        "    def greet(self):\n",
        "        print(f\"Hello, my name is {self.name} and I am {self.age} years old.\")\n",
        "person = Person(\"Gaurab\", 32)\n",
        "person.greet()"
      ],
      "metadata": {
        "colab": {
          "base_uri": "https://localhost:8080/"
        },
        "id": "x9cRJupRD5KL",
        "outputId": "dbd008b9-1a1c-4450-bd3c-1040097609bb"
      },
      "execution_count": null,
      "outputs": [
        {
          "output_type": "stream",
          "name": "stdout",
          "text": [
            "Hello, my name is Gaurab and I am 32 years old.\n"
          ]
        }
      ]
    },
    {
      "cell_type": "code",
      "source": [
        "#QSN-12-. Implement a class Student with attributes name and grades. Create a method average_grade() to compute the average of the grades.\n",
        "class Student:\n",
        "    def __init__(self, name, grades=None):\n",
        "        self.name = name\n",
        "        self.grades = grades if grades else []\n",
        "\n",
        "    def add_grade(self, grade):\n",
        "        self.grades.append(grade)\n",
        "\n",
        "    def average_grade(self):\n",
        "        if not self.grades:\n",
        "            return 0\n",
        "        return sum(self.grades) / len(self.grades)\n",
        "\n",
        "    def __str__(self):\n",
        "        return f\"Student: {self.name}, Grades: {self.grades}, Average Grade: {self.average_grade():.2f}\"\n",
        "\n",
        "student = Student(\"Gaurab\")\n",
        "print(student)\n",
        "\n",
        "# Add grades\n",
        "student.add_grade(85)\n",
        "student.add_grade(90)\n",
        "student.add_grade(78)\n",
        "print(student)\n",
        "\n",
        "# Compute average grade\n",
        "average = student.average_grade()\n",
        "print(f\"Average grade: {average:.2f}\")"
      ],
      "metadata": {
        "colab": {
          "base_uri": "https://localhost:8080/"
        },
        "id": "LyvO7LXvEeNn",
        "outputId": "ad63d3ff-6ffe-4b6f-d7f6-c195205ecea0"
      },
      "execution_count": null,
      "outputs": [
        {
          "output_type": "stream",
          "name": "stdout",
          "text": [
            "Student: Gaurab, Grades: [], Average Grade: 0.00\n",
            "Student: Gaurab, Grades: [85, 90, 78], Average Grade: 84.33\n",
            "Average grade: 84.33\n"
          ]
        }
      ]
    },
    {
      "cell_type": "code",
      "source": [
        "#QSN-13- Create a class Rectangle with methods set_dimensions() to set the dimensions and area() to calculate the area.\n",
        "class Rectangle:\n",
        "    def __init__(self):\n",
        "        self.length = 0\n",
        "        self.width = 0\n",
        "    def set_dimensions(self, length, width):\n",
        "        self.length = length\n",
        "        self.width = width\n",
        "    def area(self):\n",
        "        return self.length * self.width\n",
        "    def __str__(self):\n",
        "        return f\"Rectangle - Length: {self.length}, Width: {self.width}, Area: {self.area()}\"\n",
        "rectangle = Rectangle()\n",
        "rectangle.set_dimensions(5, 3)\n",
        "print(rectangle)"
      ],
      "metadata": {
        "colab": {
          "base_uri": "https://localhost:8080/"
        },
        "id": "Lhsxj6FaEsaM",
        "outputId": "df253740-37df-4217-956f-5d1cfc72ebf0"
      },
      "execution_count": null,
      "outputs": [
        {
          "output_type": "stream",
          "name": "stdout",
          "text": [
            "Rectangle - Length: 5, Width: 3, Area: 15\n"
          ]
        }
      ]
    },
    {
      "cell_type": "code",
      "source": [
        "#QSN-14- Create a class Employee with a method calculate_salary() that computes the salary based on hours worked and hourly rate. Create a derived class Manager that adds a bonus to the salary.\n",
        "class Employee:\n",
        "    def __init__(self, name, hours_worked, hourly_rate):\n",
        "        self.name = name\n",
        "        self.hours_worked = hours_worked\n",
        "        self.hourly_rate = hourly_rate\n",
        "\n",
        "    def calculate_salary(self):\n",
        "        return self.hours_worked * self.hourly_rate\n",
        "\n",
        "    def __str__(self):\n",
        "        return f\"Employee: {self.name}, Hours Worked: {self.hours_worked}, Hourly Rate: {self.hourly_rate}, Salary: {self.calculate_salary():.2f}\"\n",
        "\n",
        "class Manager(Employee):\n",
        "    def __init__(self, name, hours_worked, hourly_rate, bonus):\n",
        "        super().__init__(name, hours_worked, hourly_rate)\n",
        "        self.bonus = bonus\n",
        "\n",
        "    def calculate_salary(self):\n",
        "        return super().calculate_salary() + self.bonus\n",
        "\n",
        "    def __str__(self):\n",
        "        return f\"Manager: {self.name}, Hours Worked: {self.hours_worked}, Hourly Rate: {self.hourly_rate}, Bonus: {self.bonus}, Salary: {self.calculate_salary():.2f}\"\n",
        "\n",
        "# Create an Employee instance\n",
        "employee = Employee(\"gaurab\", 40, 25)\n",
        "print(employee)\n",
        "\n",
        "# Create a Manager instance\n",
        "manager = Manager(\"saurav\", 40, 30, 1000)\n",
        "print(manager)"
      ],
      "metadata": {
        "colab": {
          "base_uri": "https://localhost:8080/"
        },
        "id": "OAQol0c3FtD5",
        "outputId": "d9776165-fa60-4279-b839-c36b1afe93ae"
      },
      "execution_count": null,
      "outputs": [
        {
          "output_type": "stream",
          "name": "stdout",
          "text": [
            "Employee: gaurab, Hours Worked: 40, Hourly Rate: 25, Salary: 1000.00\n",
            "Manager: saurav, Hours Worked: 40, Hourly Rate: 30, Bonus: 1000, Salary: 2200.00\n"
          ]
        }
      ]
    },
    {
      "cell_type": "code",
      "source": [
        "#QSN-16- Create a class Product with attributes name, price, and quantity. Implement a method total_price() that calculates the total price of the product.\n",
        "class Product:\n",
        "    def __init__(self, name, price, quantity):\n",
        "        self.name = name\n",
        "        self.price = price\n",
        "        self.quantity = quantity\n",
        "\n",
        "    def total_price(self):\n",
        "        return self.price * self.quantity\n",
        "\n",
        "    def __str__(self):\n",
        "        return f\"Product: {self.name}, Price: ₹{self.price:.2f}, Quantity: {self.quantity}, Total Price: ₹{self.total_price():.2f}\"\n",
        "\n",
        "product = Product(\"PWSKILLS_Course\",20000, 2)\n",
        "print(product)\n"
      ],
      "metadata": {
        "colab": {
          "base_uri": "https://localhost:8080/"
        },
        "id": "2VUMldZ5GnDk",
        "outputId": "ff26c6a0-b3cb-402d-8cb0-4a5913d1f56a"
      },
      "execution_count": null,
      "outputs": [
        {
          "output_type": "stream",
          "name": "stdout",
          "text": [
            "Product: PWSKILLS_Course, Price: ₹20000.00, Quantity: 2, Total Price: ₹40000.00\n"
          ]
        }
      ]
    },
    {
      "cell_type": "code",
      "source": [
        "#QSN-17-Create a class Book with attributes title, author, and year_published. Add a method get_book_info() that returns a formatted string with the book's details.\n",
        "class Book:\n",
        "    def __init__(self, title, author, year_published):\n",
        "        self.title = title\n",
        "        self.author = author\n",
        "        self.year_published = year_published\n",
        "\n",
        "    def get_book_info(self):\n",
        "        return f\"'{self.title}' by {self.author}, published in {self.year_published}\"\n",
        "\n",
        "    def __str__(self):\n",
        "        return self.get_book_info()\n",
        "\n",
        "# Create a Book instance\n",
        "book = Book(\"Half_Girlfriend\", \"Chetan_Bhagat\",2015)\n",
        "print(book.get_book_info())\n",
        "print(book)"
      ],
      "metadata": {
        "colab": {
          "base_uri": "https://localhost:8080/"
        },
        "id": "7t1aspY4HmvX",
        "outputId": "e1727be4-37c2-4444-fa37-7261ff5eed41"
      },
      "execution_count": null,
      "outputs": [
        {
          "output_type": "stream",
          "name": "stdout",
          "text": [
            "'Half_Girlfriend' by Chetan_Bhagat, published in 2015\n",
            "'Half_Girlfriend' by Chetan_Bhagat, published in 2015\n"
          ]
        }
      ]
    },
    {
      "cell_type": "code",
      "source": [
        "#QSN-18-Create a class House with attributes address and price. Create a derived class Mansion that adds an attribute number_of_rooms.\n",
        "\n",
        "class House:\n",
        "    def __init__(self, address, price):\n",
        "        self.address = address\n",
        "        self.price = price\n",
        "\n",
        "    def __str__(self):\n",
        "        return f\"Address: {self.address}, Price: {self.price:.2f}\"\n",
        "\n",
        "class Mansion(House):\n",
        "    def __init__(self, address, price, number_of_rooms):\n",
        "        super().__init__(address, price)\n",
        "        self.number_of_rooms = number_of_rooms\n",
        "\n",
        "    def __str__(self):\n",
        "        return f\"{super().__str__()}, Number of Rooms: {self.number_of_rooms}\"\n",
        "\n",
        "house = House(\"Bhubaneswar\", 2500)\n",
        "print(house)\n",
        "\n",
        "mansion = Mansion(\"cuttack\", 1000, 10)\n",
        "print(mansion)\n"
      ],
      "metadata": {
        "colab": {
          "base_uri": "https://localhost:8080/"
        },
        "id": "jD_DMau0IbKz",
        "outputId": "a319211a-51a1-4018-8994-1c533b1f6968"
      },
      "execution_count": null,
      "outputs": [
        {
          "output_type": "stream",
          "name": "stdout",
          "text": [
            "Address: Bhubaneswar, Price: 2500.00\n",
            "Address: cuttack, Price: 1000.00, Number of Rooms: 10\n"
          ]
        }
      ]
    },
    {
      "cell_type": "code",
      "source": [],
      "metadata": {
        "id": "ihFfZ8EBJHdd"
      },
      "execution_count": null,
      "outputs": []
    }
  ]
}